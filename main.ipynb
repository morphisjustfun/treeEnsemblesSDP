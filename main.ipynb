{
 "cells": [
  {
   "cell_type": "code",
   "execution_count": 51,
   "metadata": {
    "collapsed": true,
    "ExecuteTime": {
     "end_time": "2023-06-09T17:06:45.593012Z",
     "start_time": "2023-06-09T17:06:43.342876Z"
    }
   },
   "outputs": [],
   "source": [
    "import pandas as pd\n",
    "from sklearn.model_selection import train_test_split\n",
    "from sklearn.tree import DecisionTreeClassifier\n",
    "from sklearn.ensemble import RandomForestClassifier\n",
    "from sklearn.metrics import f1_score, precision_score, recall_score"
   ]
  },
  {
   "cell_type": "code",
   "execution_count": 38,
   "outputs": [],
   "source": [
    "## Camel\n",
    "originalDf = pd.read_csv('Datasets/Original/CM1.csv')"
   ],
   "metadata": {
    "collapsed": false,
    "ExecuteTime": {
     "end_time": "2023-06-09T17:00:35.304858Z",
     "start_time": "2023-06-09T17:00:35.298765Z"
    }
   }
  },
  {
   "cell_type": "code",
   "execution_count": 57,
   "outputs": [
    {
     "data": {
      "text/plain": "0      0.054878\n1      0.115854\n2      0.000000\n3      0.012195\n4      0.030488\n         ...   \n322    0.048780\n323    0.298780\n324    0.103659\n325    0.006098\n326    0.060976\nName: LOC_BLANK, Length: 327, dtype: float64"
     },
     "execution_count": 57,
     "metadata": {},
     "output_type": "execute_result"
    }
   ],
   "source": [
    "# normalize the data\n",
    "originalDf['LOC_BLANK'] / originalDf['LOC_BLANK'].max()"
   ],
   "metadata": {
    "collapsed": false,
    "ExecuteTime": {
     "end_time": "2023-06-09T17:10:54.363852Z",
     "start_time": "2023-06-09T17:10:54.360778Z"
    }
   }
  },
  {
   "cell_type": "code",
   "execution_count": 40,
   "outputs": [],
   "source": [
    "## Camel clean and normalized\n",
    "cleanDf = pd.read_csv('Datasets/Preprocessed/Step1_Cleaned/CM1_Clean.csv')"
   ],
   "metadata": {
    "collapsed": false,
    "ExecuteTime": {
     "end_time": "2023-06-09T17:00:36.403393Z",
     "start_time": "2023-06-09T17:00:36.399530Z"
    }
   }
  },
  {
   "cell_type": "code",
   "execution_count": 58,
   "outputs": [
    {
     "data": {
      "text/plain": "     LOC_BLANK  BRANCH_COUNT  CALL_PAIRS  LOC_CODE_AND_COMMENT  LOC_COMMENTS  \\\n0     0.054878      0.012579    0.115385                0.0250      0.005900   \n1     0.115854      0.000000    0.038462                0.0250      0.000000   \n2     0.000000      0.037736    0.000000                0.0000      0.000000   \n3     0.012195      0.075472    0.076923                0.0125      0.026549   \n4     0.030488      0.012579    0.038462                0.0000      0.000000   \n..         ...           ...         ...                   ...           ...   \n322   0.048780      0.025157    0.000000                0.0250      0.041298   \n323   0.298780      0.238994    0.538462                0.2000      0.109145   \n324   0.103659      0.113208    0.269231                0.0000      0.023599   \n325   0.006098      0.000000    0.153846                0.0000      0.008850   \n326   0.060976      0.088050    0.115385                0.1500      0.058997   \n\n     CONDITION_COUNT  CYCLOMATIC_COMPLEXITY  CYCLOMATIC_DENSITY  \\\n0           0.016393               0.010638            0.230769   \n1           0.000000               0.000000            0.038462   \n2           0.024590               0.031915            1.000000   \n3           0.081967               0.063830            0.288462   \n4           0.016393               0.010638            0.211538   \n..               ...                    ...                 ...   \n322         0.024590               0.021277            0.384615   \n323         0.303279               0.202128            0.461538   \n324         0.131148               0.095745            0.307692   \n325         0.000000               0.000000            0.134615   \n326         0.114754               0.074468            0.173077   \n\n     DECISION_COUNT  DECISION_DENSITY  ...  NODE_COUNT  \\\n0          0.017241          0.000000  ...    0.020325   \n1          0.000000          0.000000  ...    0.073171   \n2          0.000000          1.000000  ...    0.016260   \n3          0.068966          0.133333  ...    0.052846   \n4          0.017241          0.000000  ...    0.016260   \n..              ...               ...  ...         ...   \n322        0.017241          0.166667  ...    0.016260   \n323        0.310345          0.016667  ...    0.325203   \n324        0.120690          0.083333  ...    0.158537   \n325        0.000000          0.000000  ...    0.012195   \n326        0.120690          0.000000  ...    0.138211   \n\n     NORMALIZED_CYLOMATIC_COMPLEXITY  NUM_OPERANDS  NUM_OPERATORS  \\\n0                           0.166667      0.040302       0.048282   \n1                           0.041667      0.078086       0.050736   \n2                           1.000000      0.007557       0.011457   \n3                           0.270833      0.079345       0.092471   \n4                           0.208333      0.026448       0.031915   \n..                               ...           ...            ...   \n322                         0.312500      0.018892       0.021277   \n323                         0.229167      0.396725       0.405074   \n324                         0.250000      0.105793       0.099836   \n325                         0.125000      0.020151       0.028642   \n326                         0.104167      0.137280       0.140753   \n\n     NUM_UNIQUE_OPERANDS  NUM_UNIQUE_OPERATORS  NUMBER_OF_LINES  \\\n0               0.057878              0.191176         0.029139   \n1               0.099678              0.117647         0.060927   \n2               0.012862              0.073529         0.001325   \n3               0.128617              0.220588         0.059603   \n4               0.045016              0.147059         0.022517   \n..                   ...                   ...              ...   \n322             0.025723              0.191176         0.018543   \n323             0.299035              0.602941         0.203974   \n324             0.122186              0.308824         0.095364   \n325             0.045016              0.176471         0.019868   \n326             0.115756              0.279412         0.170861   \n\n     PERCENT_COMMENTS  LOC_TOTAL  Defective  \n0            0.264841   0.024194          0  \n1            0.079383   0.056452          0  \n2            0.000000   0.004032          0  \n3            0.272626   0.070565          0  \n4            0.000000   0.026210          0  \n..                ...        ...        ...  \n322          0.717503   0.020161          0  \n323          0.652023   0.139113          0  \n324          0.176561   0.096774          0  \n325          0.189629   0.024194          0  \n326          0.511330   0.120968          0  \n\n[327 rows x 38 columns]",
      "text/html": "<div>\n<style scoped>\n    .dataframe tbody tr th:only-of-type {\n        vertical-align: middle;\n    }\n\n    .dataframe tbody tr th {\n        vertical-align: top;\n    }\n\n    .dataframe thead th {\n        text-align: right;\n    }\n</style>\n<table border=\"1\" class=\"dataframe\">\n  <thead>\n    <tr style=\"text-align: right;\">\n      <th></th>\n      <th>LOC_BLANK</th>\n      <th>BRANCH_COUNT</th>\n      <th>CALL_PAIRS</th>\n      <th>LOC_CODE_AND_COMMENT</th>\n      <th>LOC_COMMENTS</th>\n      <th>CONDITION_COUNT</th>\n      <th>CYCLOMATIC_COMPLEXITY</th>\n      <th>CYCLOMATIC_DENSITY</th>\n      <th>DECISION_COUNT</th>\n      <th>DECISION_DENSITY</th>\n      <th>...</th>\n      <th>NODE_COUNT</th>\n      <th>NORMALIZED_CYLOMATIC_COMPLEXITY</th>\n      <th>NUM_OPERANDS</th>\n      <th>NUM_OPERATORS</th>\n      <th>NUM_UNIQUE_OPERANDS</th>\n      <th>NUM_UNIQUE_OPERATORS</th>\n      <th>NUMBER_OF_LINES</th>\n      <th>PERCENT_COMMENTS</th>\n      <th>LOC_TOTAL</th>\n      <th>Defective</th>\n    </tr>\n  </thead>\n  <tbody>\n    <tr>\n      <th>0</th>\n      <td>0.054878</td>\n      <td>0.012579</td>\n      <td>0.115385</td>\n      <td>0.0250</td>\n      <td>0.005900</td>\n      <td>0.016393</td>\n      <td>0.010638</td>\n      <td>0.230769</td>\n      <td>0.017241</td>\n      <td>0.000000</td>\n      <td>...</td>\n      <td>0.020325</td>\n      <td>0.166667</td>\n      <td>0.040302</td>\n      <td>0.048282</td>\n      <td>0.057878</td>\n      <td>0.191176</td>\n      <td>0.029139</td>\n      <td>0.264841</td>\n      <td>0.024194</td>\n      <td>0</td>\n    </tr>\n    <tr>\n      <th>1</th>\n      <td>0.115854</td>\n      <td>0.000000</td>\n      <td>0.038462</td>\n      <td>0.0250</td>\n      <td>0.000000</td>\n      <td>0.000000</td>\n      <td>0.000000</td>\n      <td>0.038462</td>\n      <td>0.000000</td>\n      <td>0.000000</td>\n      <td>...</td>\n      <td>0.073171</td>\n      <td>0.041667</td>\n      <td>0.078086</td>\n      <td>0.050736</td>\n      <td>0.099678</td>\n      <td>0.117647</td>\n      <td>0.060927</td>\n      <td>0.079383</td>\n      <td>0.056452</td>\n      <td>0</td>\n    </tr>\n    <tr>\n      <th>2</th>\n      <td>0.000000</td>\n      <td>0.037736</td>\n      <td>0.000000</td>\n      <td>0.0000</td>\n      <td>0.000000</td>\n      <td>0.024590</td>\n      <td>0.031915</td>\n      <td>1.000000</td>\n      <td>0.000000</td>\n      <td>1.000000</td>\n      <td>...</td>\n      <td>0.016260</td>\n      <td>1.000000</td>\n      <td>0.007557</td>\n      <td>0.011457</td>\n      <td>0.012862</td>\n      <td>0.073529</td>\n      <td>0.001325</td>\n      <td>0.000000</td>\n      <td>0.004032</td>\n      <td>0</td>\n    </tr>\n    <tr>\n      <th>3</th>\n      <td>0.012195</td>\n      <td>0.075472</td>\n      <td>0.076923</td>\n      <td>0.0125</td>\n      <td>0.026549</td>\n      <td>0.081967</td>\n      <td>0.063830</td>\n      <td>0.288462</td>\n      <td>0.068966</td>\n      <td>0.133333</td>\n      <td>...</td>\n      <td>0.052846</td>\n      <td>0.270833</td>\n      <td>0.079345</td>\n      <td>0.092471</td>\n      <td>0.128617</td>\n      <td>0.220588</td>\n      <td>0.059603</td>\n      <td>0.272626</td>\n      <td>0.070565</td>\n      <td>0</td>\n    </tr>\n    <tr>\n      <th>4</th>\n      <td>0.030488</td>\n      <td>0.012579</td>\n      <td>0.038462</td>\n      <td>0.0000</td>\n      <td>0.000000</td>\n      <td>0.016393</td>\n      <td>0.010638</td>\n      <td>0.211538</td>\n      <td>0.017241</td>\n      <td>0.000000</td>\n      <td>...</td>\n      <td>0.016260</td>\n      <td>0.208333</td>\n      <td>0.026448</td>\n      <td>0.031915</td>\n      <td>0.045016</td>\n      <td>0.147059</td>\n      <td>0.022517</td>\n      <td>0.000000</td>\n      <td>0.026210</td>\n      <td>0</td>\n    </tr>\n    <tr>\n      <th>...</th>\n      <td>...</td>\n      <td>...</td>\n      <td>...</td>\n      <td>...</td>\n      <td>...</td>\n      <td>...</td>\n      <td>...</td>\n      <td>...</td>\n      <td>...</td>\n      <td>...</td>\n      <td>...</td>\n      <td>...</td>\n      <td>...</td>\n      <td>...</td>\n      <td>...</td>\n      <td>...</td>\n      <td>...</td>\n      <td>...</td>\n      <td>...</td>\n      <td>...</td>\n      <td>...</td>\n    </tr>\n    <tr>\n      <th>322</th>\n      <td>0.048780</td>\n      <td>0.025157</td>\n      <td>0.000000</td>\n      <td>0.0250</td>\n      <td>0.041298</td>\n      <td>0.024590</td>\n      <td>0.021277</td>\n      <td>0.384615</td>\n      <td>0.017241</td>\n      <td>0.166667</td>\n      <td>...</td>\n      <td>0.016260</td>\n      <td>0.312500</td>\n      <td>0.018892</td>\n      <td>0.021277</td>\n      <td>0.025723</td>\n      <td>0.191176</td>\n      <td>0.018543</td>\n      <td>0.717503</td>\n      <td>0.020161</td>\n      <td>0</td>\n    </tr>\n    <tr>\n      <th>323</th>\n      <td>0.298780</td>\n      <td>0.238994</td>\n      <td>0.538462</td>\n      <td>0.2000</td>\n      <td>0.109145</td>\n      <td>0.303279</td>\n      <td>0.202128</td>\n      <td>0.461538</td>\n      <td>0.310345</td>\n      <td>0.016667</td>\n      <td>...</td>\n      <td>0.325203</td>\n      <td>0.229167</td>\n      <td>0.396725</td>\n      <td>0.405074</td>\n      <td>0.299035</td>\n      <td>0.602941</td>\n      <td>0.203974</td>\n      <td>0.652023</td>\n      <td>0.139113</td>\n      <td>0</td>\n    </tr>\n    <tr>\n      <th>324</th>\n      <td>0.103659</td>\n      <td>0.113208</td>\n      <td>0.269231</td>\n      <td>0.0000</td>\n      <td>0.023599</td>\n      <td>0.131148</td>\n      <td>0.095745</td>\n      <td>0.307692</td>\n      <td>0.120690</td>\n      <td>0.083333</td>\n      <td>...</td>\n      <td>0.158537</td>\n      <td>0.250000</td>\n      <td>0.105793</td>\n      <td>0.099836</td>\n      <td>0.122186</td>\n      <td>0.308824</td>\n      <td>0.095364</td>\n      <td>0.176561</td>\n      <td>0.096774</td>\n      <td>0</td>\n    </tr>\n    <tr>\n      <th>325</th>\n      <td>0.006098</td>\n      <td>0.000000</td>\n      <td>0.153846</td>\n      <td>0.0000</td>\n      <td>0.008850</td>\n      <td>0.000000</td>\n      <td>0.000000</td>\n      <td>0.134615</td>\n      <td>0.000000</td>\n      <td>0.000000</td>\n      <td>...</td>\n      <td>0.012195</td>\n      <td>0.125000</td>\n      <td>0.020151</td>\n      <td>0.028642</td>\n      <td>0.045016</td>\n      <td>0.176471</td>\n      <td>0.019868</td>\n      <td>0.189629</td>\n      <td>0.024194</td>\n      <td>0</td>\n    </tr>\n    <tr>\n      <th>326</th>\n      <td>0.060976</td>\n      <td>0.088050</td>\n      <td>0.115385</td>\n      <td>0.1500</td>\n      <td>0.058997</td>\n      <td>0.114754</td>\n      <td>0.074468</td>\n      <td>0.173077</td>\n      <td>0.120690</td>\n      <td>0.000000</td>\n      <td>...</td>\n      <td>0.138211</td>\n      <td>0.104167</td>\n      <td>0.137280</td>\n      <td>0.140753</td>\n      <td>0.115756</td>\n      <td>0.279412</td>\n      <td>0.170861</td>\n      <td>0.511330</td>\n      <td>0.120968</td>\n      <td>0</td>\n    </tr>\n  </tbody>\n</table>\n<p>327 rows × 38 columns</p>\n</div>"
     },
     "execution_count": 58,
     "metadata": {},
     "output_type": "execute_result"
    }
   ],
   "source": [
    "cleanDf"
   ],
   "metadata": {
    "collapsed": false,
    "ExecuteTime": {
     "end_time": "2023-06-09T17:10:57.706380Z",
     "start_time": "2023-06-09T17:10:57.703678Z"
    }
   }
  },
  {
   "cell_type": "code",
   "execution_count": 43,
   "outputs": [
    {
     "data": {
      "text/plain": "0    285\n1     42\nName: Defective, dtype: int64"
     },
     "execution_count": 43,
     "metadata": {},
     "output_type": "execute_result"
    }
   ],
   "source": [
    "cleanDf['Defective'].value_counts()"
   ],
   "metadata": {
    "collapsed": false,
    "ExecuteTime": {
     "end_time": "2023-06-09T17:01:02.336363Z",
     "start_time": "2023-06-09T17:01:02.334518Z"
    }
   }
  },
  {
   "cell_type": "code",
   "execution_count": 48,
   "outputs": [],
   "source": [
    "## Camel Balanced using SMOTE - Non defective is bigger - method for handling class imbalance\n",
    "balancedDf = pd.read_csv('Datasets/Preprocessed/Step2_Balanced/CM1_Clean_Balanced.csv')"
   ],
   "metadata": {
    "collapsed": false,
    "ExecuteTime": {
     "end_time": "2023-06-09T17:04:31.011003Z",
     "start_time": "2023-06-09T17:04:31.001944Z"
    }
   }
  },
  {
   "cell_type": "code",
   "execution_count": 45,
   "outputs": [
    {
     "data": {
      "text/plain": "0    285\n1    285\nName: Defective, dtype: int64"
     },
     "execution_count": 45,
     "metadata": {},
     "output_type": "execute_result"
    }
   ],
   "source": [
    "balancedDf['Defective'].value_counts()"
   ],
   "metadata": {
    "collapsed": false,
    "ExecuteTime": {
     "end_time": "2023-06-09T17:03:43.325831Z",
     "start_time": "2023-06-09T17:03:43.323115Z"
    }
   }
  },
  {
   "cell_type": "code",
   "execution_count": 46,
   "outputs": [],
   "source": [
    "## Camel Feature selection with gain ratio. Select most informative features\n",
    "gainRatioDf = pd.read_csv('Datasets/Preprocessed/Step3_GainRatio/CM1_Clean_Balanced_GainRatio.csv')"
   ],
   "metadata": {
    "collapsed": false,
    "ExecuteTime": {
     "end_time": "2023-06-09T17:04:25.514088Z",
     "start_time": "2023-06-09T17:04:25.507952Z"
    }
   }
  },
  {
   "cell_type": "code",
   "execution_count": 50,
   "outputs": [
    {
     "data": {
      "text/plain": "     PERCENT_COMMENTS  LOC_COMMENTS  HALSTEAD_ERROR_EST  HALSTEAD_VOLUME  \\\n0            0.264841      0.005900            0.030631         0.029791   \n1            0.079383      0.000000            0.043243         0.042442   \n2            0.000000      0.000000            0.005405         0.005059   \n3            0.272626      0.026549            0.064865         0.064555   \n4            0.000000      0.000000            0.019820         0.018754   \n..                ...           ...                 ...              ...   \n565          0.518852      0.126916            0.157806         0.157832   \n566          0.429408      0.030702            0.028788         0.027584   \n567          0.336489      0.021670            0.031504         0.030285   \n568          0.325237      0.035842            0.089851         0.089547   \n569          0.697434      0.206045            0.121542         0.121169   \n\n     HALSTEAD_DIFFICULTY  HALSTEAD_EFFORT  HALSTEAD_PROG_TIME  \\\n0               0.098527         0.003639            0.003639   \n1               0.075022         0.004058            0.004058   \n2               0.033003         0.000319            0.000319   \n3               0.100378         0.007754            0.007754   \n4               0.064075         0.001658            0.001658   \n..                   ...              ...                 ...   \n565             0.169695         0.031140            0.031140   \n566             0.100096         0.003462            0.003462   \n567             0.107797         0.003974            0.003973   \n568             0.208080         0.020348            0.020348   \n569             0.198746         0.033195            0.033195   \n\n     HALSTEAD_CONTENT  LOC_TOTAL  NUM_UNIQUE_OPERANDS  ...  NUMBER_OF_LINES  \\\n0            0.103989   0.024194             0.057878  ...         0.029139   \n1            0.199086   0.056452             0.099678  ...         0.060927   \n2            0.043137   0.004032             0.012862  ...         0.001325   \n3            0.238178   0.070565             0.128617  ...         0.059603   \n4            0.095027   0.026210             0.045016  ...         0.022517   \n..                ...        ...                  ...  ...              ...   \n565          0.358436   0.175839             0.237839  ...         0.224430   \n566          0.093984   0.040874             0.059997  ...         0.043376   \n567          0.097340   0.047907             0.064210  ...         0.041162   \n568          0.165298   0.088674             0.135987  ...         0.076423   \n569          0.259527   0.171657             0.179627  ...         0.225361   \n\n     DECISION_COUNT  NUM_OPERANDS  BRANCH_COUNT  DESIGN_COMPLEXITY  \\\n0          0.017241      0.040302      0.012579           0.032258   \n1          0.000000      0.078086      0.000000           0.016129   \n2          0.000000      0.007557      0.037736           0.000000   \n3          0.068966      0.079345      0.075472           0.080645   \n4          0.017241      0.026448      0.012579           0.032258   \n..              ...           ...           ...                ...   \n565        0.122723      0.182233      0.089534           0.114805   \n566        0.039972      0.037326      0.046028           0.053522   \n567        0.050530      0.040351      0.048573           0.062282   \n568        0.024565      0.129422      0.021483           0.041393   \n569        0.140380      0.158027      0.120390           0.108322   \n\n     NODE_COUNT  LOC_BLANK  MODIFIED_CONDITION_COUNT  \\\n0      0.020325   0.054878                  0.015385   \n1      0.073171   0.115854                  0.000000   \n2      0.016260   0.000000                  0.046154   \n3      0.052846   0.012195                  0.092308   \n4      0.016260   0.030488                  0.015385   \n..          ...        ...                       ...   \n565    0.158636   0.245146                  0.109507   \n566    0.036403   0.018703                  0.056295   \n567    0.045278   0.000422                  0.059408   \n568    0.042880   0.015648                  0.021919   \n569    0.173077   0.098517                  0.147246   \n\n     MULTIPLE_CONDITION_COUNT  Defective  \n0                    0.016393          0  \n1                    0.000000          0  \n2                    0.040984          0  \n3                    0.081967          0  \n4                    0.016393          0  \n..                        ...        ...  \n565                  0.116687          1  \n566                  0.048997          1  \n567                  0.055674          1  \n568                  0.023357          1  \n569                  0.145189          1  \n\n[570 rows x 25 columns]",
      "text/html": "<div>\n<style scoped>\n    .dataframe tbody tr th:only-of-type {\n        vertical-align: middle;\n    }\n\n    .dataframe tbody tr th {\n        vertical-align: top;\n    }\n\n    .dataframe thead th {\n        text-align: right;\n    }\n</style>\n<table border=\"1\" class=\"dataframe\">\n  <thead>\n    <tr style=\"text-align: right;\">\n      <th></th>\n      <th>PERCENT_COMMENTS</th>\n      <th>LOC_COMMENTS</th>\n      <th>HALSTEAD_ERROR_EST</th>\n      <th>HALSTEAD_VOLUME</th>\n      <th>HALSTEAD_DIFFICULTY</th>\n      <th>HALSTEAD_EFFORT</th>\n      <th>HALSTEAD_PROG_TIME</th>\n      <th>HALSTEAD_CONTENT</th>\n      <th>LOC_TOTAL</th>\n      <th>NUM_UNIQUE_OPERANDS</th>\n      <th>...</th>\n      <th>NUMBER_OF_LINES</th>\n      <th>DECISION_COUNT</th>\n      <th>NUM_OPERANDS</th>\n      <th>BRANCH_COUNT</th>\n      <th>DESIGN_COMPLEXITY</th>\n      <th>NODE_COUNT</th>\n      <th>LOC_BLANK</th>\n      <th>MODIFIED_CONDITION_COUNT</th>\n      <th>MULTIPLE_CONDITION_COUNT</th>\n      <th>Defective</th>\n    </tr>\n  </thead>\n  <tbody>\n    <tr>\n      <th>0</th>\n      <td>0.264841</td>\n      <td>0.005900</td>\n      <td>0.030631</td>\n      <td>0.029791</td>\n      <td>0.098527</td>\n      <td>0.003639</td>\n      <td>0.003639</td>\n      <td>0.103989</td>\n      <td>0.024194</td>\n      <td>0.057878</td>\n      <td>...</td>\n      <td>0.029139</td>\n      <td>0.017241</td>\n      <td>0.040302</td>\n      <td>0.012579</td>\n      <td>0.032258</td>\n      <td>0.020325</td>\n      <td>0.054878</td>\n      <td>0.015385</td>\n      <td>0.016393</td>\n      <td>0</td>\n    </tr>\n    <tr>\n      <th>1</th>\n      <td>0.079383</td>\n      <td>0.000000</td>\n      <td>0.043243</td>\n      <td>0.042442</td>\n      <td>0.075022</td>\n      <td>0.004058</td>\n      <td>0.004058</td>\n      <td>0.199086</td>\n      <td>0.056452</td>\n      <td>0.099678</td>\n      <td>...</td>\n      <td>0.060927</td>\n      <td>0.000000</td>\n      <td>0.078086</td>\n      <td>0.000000</td>\n      <td>0.016129</td>\n      <td>0.073171</td>\n      <td>0.115854</td>\n      <td>0.000000</td>\n      <td>0.000000</td>\n      <td>0</td>\n    </tr>\n    <tr>\n      <th>2</th>\n      <td>0.000000</td>\n      <td>0.000000</td>\n      <td>0.005405</td>\n      <td>0.005059</td>\n      <td>0.033003</td>\n      <td>0.000319</td>\n      <td>0.000319</td>\n      <td>0.043137</td>\n      <td>0.004032</td>\n      <td>0.012862</td>\n      <td>...</td>\n      <td>0.001325</td>\n      <td>0.000000</td>\n      <td>0.007557</td>\n      <td>0.037736</td>\n      <td>0.000000</td>\n      <td>0.016260</td>\n      <td>0.000000</td>\n      <td>0.046154</td>\n      <td>0.040984</td>\n      <td>0</td>\n    </tr>\n    <tr>\n      <th>3</th>\n      <td>0.272626</td>\n      <td>0.026549</td>\n      <td>0.064865</td>\n      <td>0.064555</td>\n      <td>0.100378</td>\n      <td>0.007754</td>\n      <td>0.007754</td>\n      <td>0.238178</td>\n      <td>0.070565</td>\n      <td>0.128617</td>\n      <td>...</td>\n      <td>0.059603</td>\n      <td>0.068966</td>\n      <td>0.079345</td>\n      <td>0.075472</td>\n      <td>0.080645</td>\n      <td>0.052846</td>\n      <td>0.012195</td>\n      <td>0.092308</td>\n      <td>0.081967</td>\n      <td>0</td>\n    </tr>\n    <tr>\n      <th>4</th>\n      <td>0.000000</td>\n      <td>0.000000</td>\n      <td>0.019820</td>\n      <td>0.018754</td>\n      <td>0.064075</td>\n      <td>0.001658</td>\n      <td>0.001658</td>\n      <td>0.095027</td>\n      <td>0.026210</td>\n      <td>0.045016</td>\n      <td>...</td>\n      <td>0.022517</td>\n      <td>0.017241</td>\n      <td>0.026448</td>\n      <td>0.012579</td>\n      <td>0.032258</td>\n      <td>0.016260</td>\n      <td>0.030488</td>\n      <td>0.015385</td>\n      <td>0.016393</td>\n      <td>0</td>\n    </tr>\n    <tr>\n      <th>...</th>\n      <td>...</td>\n      <td>...</td>\n      <td>...</td>\n      <td>...</td>\n      <td>...</td>\n      <td>...</td>\n      <td>...</td>\n      <td>...</td>\n      <td>...</td>\n      <td>...</td>\n      <td>...</td>\n      <td>...</td>\n      <td>...</td>\n      <td>...</td>\n      <td>...</td>\n      <td>...</td>\n      <td>...</td>\n      <td>...</td>\n      <td>...</td>\n      <td>...</td>\n      <td>...</td>\n    </tr>\n    <tr>\n      <th>565</th>\n      <td>0.518852</td>\n      <td>0.126916</td>\n      <td>0.157806</td>\n      <td>0.157832</td>\n      <td>0.169695</td>\n      <td>0.031140</td>\n      <td>0.031140</td>\n      <td>0.358436</td>\n      <td>0.175839</td>\n      <td>0.237839</td>\n      <td>...</td>\n      <td>0.224430</td>\n      <td>0.122723</td>\n      <td>0.182233</td>\n      <td>0.089534</td>\n      <td>0.114805</td>\n      <td>0.158636</td>\n      <td>0.245146</td>\n      <td>0.109507</td>\n      <td>0.116687</td>\n      <td>1</td>\n    </tr>\n    <tr>\n      <th>566</th>\n      <td>0.429408</td>\n      <td>0.030702</td>\n      <td>0.028788</td>\n      <td>0.027584</td>\n      <td>0.100096</td>\n      <td>0.003462</td>\n      <td>0.003462</td>\n      <td>0.093984</td>\n      <td>0.040874</td>\n      <td>0.059997</td>\n      <td>...</td>\n      <td>0.043376</td>\n      <td>0.039972</td>\n      <td>0.037326</td>\n      <td>0.046028</td>\n      <td>0.053522</td>\n      <td>0.036403</td>\n      <td>0.018703</td>\n      <td>0.056295</td>\n      <td>0.048997</td>\n      <td>1</td>\n    </tr>\n    <tr>\n      <th>567</th>\n      <td>0.336489</td>\n      <td>0.021670</td>\n      <td>0.031504</td>\n      <td>0.030285</td>\n      <td>0.107797</td>\n      <td>0.003974</td>\n      <td>0.003973</td>\n      <td>0.097340</td>\n      <td>0.047907</td>\n      <td>0.064210</td>\n      <td>...</td>\n      <td>0.041162</td>\n      <td>0.050530</td>\n      <td>0.040351</td>\n      <td>0.048573</td>\n      <td>0.062282</td>\n      <td>0.045278</td>\n      <td>0.000422</td>\n      <td>0.059408</td>\n      <td>0.055674</td>\n      <td>1</td>\n    </tr>\n    <tr>\n      <th>568</th>\n      <td>0.325237</td>\n      <td>0.035842</td>\n      <td>0.089851</td>\n      <td>0.089547</td>\n      <td>0.208080</td>\n      <td>0.020348</td>\n      <td>0.020348</td>\n      <td>0.165298</td>\n      <td>0.088674</td>\n      <td>0.135987</td>\n      <td>...</td>\n      <td>0.076423</td>\n      <td>0.024565</td>\n      <td>0.129422</td>\n      <td>0.021483</td>\n      <td>0.041393</td>\n      <td>0.042880</td>\n      <td>0.015648</td>\n      <td>0.021919</td>\n      <td>0.023357</td>\n      <td>1</td>\n    </tr>\n    <tr>\n      <th>569</th>\n      <td>0.697434</td>\n      <td>0.206045</td>\n      <td>0.121542</td>\n      <td>0.121169</td>\n      <td>0.198746</td>\n      <td>0.033195</td>\n      <td>0.033195</td>\n      <td>0.259527</td>\n      <td>0.171657</td>\n      <td>0.179627</td>\n      <td>...</td>\n      <td>0.225361</td>\n      <td>0.140380</td>\n      <td>0.158027</td>\n      <td>0.120390</td>\n      <td>0.108322</td>\n      <td>0.173077</td>\n      <td>0.098517</td>\n      <td>0.147246</td>\n      <td>0.145189</td>\n      <td>1</td>\n    </tr>\n  </tbody>\n</table>\n<p>570 rows × 25 columns</p>\n</div>"
     },
     "execution_count": 50,
     "metadata": {},
     "output_type": "execute_result"
    }
   ],
   "source": [
    "\n",
    "gainRatioDf\n"
   ],
   "metadata": {
    "collapsed": false,
    "ExecuteTime": {
     "end_time": "2023-06-09T17:04:39.260209Z",
     "start_time": "2023-06-09T17:04:39.249940Z"
    }
   }
  },
  {
   "cell_type": "code",
   "execution_count": 53,
   "outputs": [],
   "source": [
    "features = gainRatioDf.drop('Defective', axis=1)\n",
    "labels = gainRatioDf['Defective']\n",
    "\n",
    "train_features, test_features, train_labels, test_labels = train_test_split(features, labels, test_size=0.2)"
   ],
   "metadata": {
    "collapsed": false,
    "ExecuteTime": {
     "end_time": "2023-06-09T17:09:22.250066Z",
     "start_time": "2023-06-09T17:09:22.243572Z"
    }
   }
  },
  {
   "cell_type": "code",
   "execution_count": 54,
   "outputs": [
    {
     "name": "stdout",
     "output_type": "stream",
     "text": [
      "Precision:  0.796875\n",
      "Recall:  0.8793103448275862\n",
      "F1:  0.8360655737704917\n"
     ]
    }
   ],
   "source": [
    "# peform a Decision Tree Classifier on the gain ratio dataset\n",
    "\n",
    "clf = DecisionTreeClassifier()\n",
    "clf.fit(train_features, train_labels)\n",
    "\n",
    "# predict on the test set\n",
    "pred_labels = clf.predict(test_features)\n",
    "\n",
    "# evaluate performance\n",
    "print('Precision: ', precision_score(test_labels, pred_labels))\n",
    "print('Recall: ', recall_score(test_labels, pred_labels))\n",
    "print('F1: ', f1_score(test_labels, pred_labels))\n"
   ],
   "metadata": {
    "collapsed": false,
    "ExecuteTime": {
     "end_time": "2023-06-09T17:10:08.222888Z",
     "start_time": "2023-06-09T17:10:08.203539Z"
    }
   }
  },
  {
   "cell_type": "code",
   "execution_count": 55,
   "outputs": [
    {
     "name": "stdout",
     "output_type": "stream",
     "text": [
      "Precision:  0.8870967741935484\n",
      "Recall:  0.9482758620689655\n",
      "F1:  0.9166666666666667\n"
     ]
    }
   ],
   "source": [
    "\n",
    "# peform a Random Forest Classifier on the gain ratio dataset\n",
    "clf = RandomForestClassifier()\n",
    "clf.fit(train_features, train_labels)\n",
    "\n",
    "# predict on the test set\n",
    "pred_labels = clf.predict(test_features)\n",
    "\n",
    "# evaluate performance\n",
    "print('Precision: ', precision_score(test_labels, pred_labels))\n",
    "print('Recall: ', recall_score(test_labels, pred_labels))\n",
    "print('F1: ', f1_score(test_labels, pred_labels))\n"
   ],
   "metadata": {
    "collapsed": false,
    "ExecuteTime": {
     "end_time": "2023-06-09T17:10:09.436407Z",
     "start_time": "2023-06-09T17:10:09.325180Z"
    }
   }
  }
 ],
 "metadata": {
  "kernelspec": {
   "display_name": "Python 3",
   "language": "python",
   "name": "python3"
  },
  "language_info": {
   "codemirror_mode": {
    "name": "ipython",
    "version": 2
   },
   "file_extension": ".py",
   "mimetype": "text/x-python",
   "name": "python",
   "nbconvert_exporter": "python",
   "pygments_lexer": "ipython2",
   "version": "2.7.6"
  }
 },
 "nbformat": 4,
 "nbformat_minor": 0
}
